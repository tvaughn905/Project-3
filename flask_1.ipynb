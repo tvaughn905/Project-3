{
 "cells": [
  {
   "cell_type": "code",
   "execution_count": 82,
   "id": "3cd5d8ed",
   "metadata": {},
   "outputs": [],
   "source": [
    "import os\n",
    "import psycopg2\n",
    "from flask import Flask, render_template\n",
    "import pandas as pd\n",
    "app = Flask(__name__)"
   ]
  },
  {
   "cell_type": "code",
   "execution_count": 83,
   "id": "83932174",
   "metadata": {},
   "outputs": [],
   "source": [
    "conn = psycopg2.connect(database=\"flask_df\", user=\"flask_df_user\", password=\"DF4LP1UcZJt3AN4cUW9hrbfp2p4FtWL3\", host=\"dpg-cgtiqjl269vbmeuj26cg-a.oregon-postgres.render.com\", port=\"5432\")\n",
    "\n",
    "# Open a cursor to perform database operations\n",
    "cur = conn.cursor()"
   ]
  },
  {
   "cell_type": "code",
   "execution_count": 84,
   "id": "d366927d",
   "metadata": {},
   "outputs": [],
   "source": [
    "# Execute a command: this creates a new table\n",
    "cur.execute('DROP TABLE IF EXISTS books;')\n",
    "cur.execute('CREATE TABLE books (id serial PRIMARY KEY,'\n",
    "                                 'title varchar (150) NOT NULL,'\n",
    "                                 'author varchar (50) NOT NULL,'\n",
    "                                 'pages_num integer NOT NULL,'\n",
    "                                 'review text,'\n",
    "                                 'date_added date DEFAULT CURRENT_TIMESTAMP);'\n",
    "                                 )\n"
   ]
  },
  {
   "cell_type": "code",
   "execution_count": 85,
   "id": "b2e41e4b",
   "metadata": {},
   "outputs": [],
   "source": [
    "# Insert data into the table\n",
    "\n",
    "cur.execute('INSERT INTO books (title, author, pages_num, review)'\n",
    "            'VALUES (%s, %s, %s, %s)',\n",
    "            ('A Tale of Two Cities',\n",
    "             'Charles Dickens',\n",
    "             489,\n",
    "             'A great classic!')\n",
    "            )\n",
    "\n",
    "\n",
    "cur.execute('INSERT INTO books (title, author, pages_num, review)'\n",
    "            'VALUES (%s, %s, %s, %s)',\n",
    "            ('Anna Karenina',\n",
    "             'Leo Tolstoy',\n",
    "             864,\n",
    "             'Another great classic!')\n",
    "            )"
   ]
  },
  {
   "cell_type": "code",
   "execution_count": 86,
   "id": "241d2e25",
   "metadata": {},
   "outputs": [],
   "source": [
    "conn.commit()"
   ]
  },
  {
   "cell_type": "code",
   "execution_count": 87,
   "id": "820d12ce",
   "metadata": {},
   "outputs": [],
   "source": [
    "cur.close()\n",
    "conn.close()"
   ]
  },
  {
   "cell_type": "code",
   "execution_count": 90,
   "id": "34c413e3",
   "metadata": {},
   "outputs": [
    {
     "data": {
      "text/plain": [
       "[(1,\n",
       "  'A Tale of Two Cities',\n",
       "  'Charles Dickens',\n",
       "  489,\n",
       "  'A great classic!',\n",
       "  datetime.date(2023, 4, 16)),\n",
       " (2,\n",
       "  'Anna Karenina',\n",
       "  'Leo Tolstoy',\n",
       "  864,\n",
       "  'Another great classic!',\n",
       "  datetime.date(2023, 4, 16))]"
      ]
     },
     "execution_count": 90,
     "metadata": {},
     "output_type": "execute_result"
    }
   ],
   "source": [
    "    conn =psycopg2.connect(database=\"flask_df\", user=\"flask_df_user\", password=\"DF4LP1UcZJt3AN4cUW9hrbfp2p4FtWL3\", host=\"dpg-cgtiqjl269vbmeuj26cg-a.oregon-postgres.render.com\", port=\"5432\")\n",
    "    cur = conn.cursor()\n",
    "    cur.execute('SELECT * FROM books;')\n",
    "    books = cur.fetchall()\n",
    "    booky = []\n",
    "\n",
    "    \n",
    "            \n",
    "                \n",
    "                \n",
    "    #books[0][5].strftime(\"%Y-%m-%d\")\n",
    "    #books_df = pd.DataFrame([books])\n",
    "    #book_df = pd.DataFrame([books], columns = [\"Index\", \"Title\"])#, \"Author\", \"Page Count\", \"Quote\", \"Date\"]\n",
    "    books"
   ]
  },
  {
   "cell_type": "code",
   "execution_count": 89,
   "id": "eafbc7da",
   "metadata": {},
   "outputs": [],
   "source": [
    "@app.route('/')\n",
    "def index():\n",
    "    conn =psycopg2.connect(database=\"flask_df\", user=\"flask_df_user\", password=\"DF4LP1UcZJt3AN4cUW9hrbfp2p4FtWL3\", host=\"dpg-cgtiqjl269vbmeuj26cg-a.oregon-postgres.render.com\", port=\"5432\")\n",
    "    cur = conn.cursor()\n",
    "    cur.execute('SELECT * FROM books;')\n",
    "    books = cur.fetchall()\n",
    "    cur.close()\n",
    "    conn.close()\n",
    "    return str(books)"
   ]
  },
  {
   "cell_type": "code",
   "execution_count": 43,
   "id": "4695c400",
   "metadata": {},
   "outputs": [
    {
     "name": "stdout",
     "output_type": "stream",
     "text": [
      " * Serving Flask app '__main__'\n",
      " * Debug mode: on\n"
     ]
    },
    {
     "name": "stderr",
     "output_type": "stream",
     "text": [
      "WARNING: This is a development server. Do not use it in a production deployment. Use a production WSGI server instead.\n",
      " * Running on http://127.0.0.1:5000\n",
      "Press CTRL+C to quit\n",
      " * Restarting with stat\n"
     ]
    },
    {
     "ename": "SystemExit",
     "evalue": "1",
     "output_type": "error",
     "traceback": [
      "An exception has occurred, use %tb to see the full traceback.\n",
      "\u001b[1;31mSystemExit\u001b[0m\u001b[1;31m:\u001b[0m 1\n"
     ]
    }
   ],
   "source": [
    "if __name__ == '__main__':\n",
    "    app.run(debug=True)"
   ]
  },
  {
   "cell_type": "code",
   "execution_count": null,
   "id": "e477acf1",
   "metadata": {},
   "outputs": [],
   "source": []
  }
 ],
 "metadata": {
  "kernelspec": {
   "display_name": "PythonData",
   "language": "python",
   "name": "pythondata"
  },
  "language_info": {
   "codemirror_mode": {
    "name": "ipython",
    "version": 3
   },
   "file_extension": ".py",
   "mimetype": "text/x-python",
   "name": "python",
   "nbconvert_exporter": "python",
   "pygments_lexer": "ipython3",
   "version": "3.7.7"
  }
 },
 "nbformat": 4,
 "nbformat_minor": 5
}
