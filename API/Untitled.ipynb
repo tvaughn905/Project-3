{
 "cells": [
  {
   "cell_type": "code",
   "execution_count": null,
   "id": "8b32967e",
   "metadata": {},
   "outputs": [],
   "source": [
    "# API key\n",
    "API_KEY = \"45baeaf213f04051abc979d4eb3c1f90\""
   ]
  }
 ],
 "metadata": {
  "kernelspec": {
   "display_name": "PythonData",
   "language": "python",
   "name": "pythondata"
  },
  "language_info": {
   "codemirror_mode": {
    "name": "ipython",
    "version": 3
   },
   "file_extension": ".py",
   "mimetype": "text/x-python",
   "name": "python",
   "nbconvert_exporter": "python",
   "pygments_lexer": "ipython3",
   "version": "3.7.15"
  }
 },
 "nbformat": 4,
 "nbformat_minor": 5
}
