{
 "cells": [
  {
   "cell_type": "code",
   "execution_count": null,
   "id": "85593f73",
   "metadata": {},
   "outputs": [],
   "source": [
    "import os\n",
    "import psycopg2\n",
    "from flask import Flask, render_template\n",
    "import pandas as pd\n",
    "app = Flask(__name__)"
   ]
  },
  {
   "cell_type": "code",
   "execution_count": null,
   "id": "e1815771",
   "metadata": {},
   "outputs": [],
   "source": [
    "conn = psycopg2.connect(database=\"flask_df\", user=\"flask_df_user\", password=\"DF4LP1UcZJt3AN4cUW9hrbfp2p4FtWL3\", host=\"dpg-cgtiqjl269vbmeuj26cg-a.oregon-postgres.render.com\", port=\"5432\")\n",
    "\n",
    "# Open a cursor to perform database operations\n",
    "cur = conn.cursor()"
   ]
  },
  {
   "cell_type": "code",
   "execution_count": null,
   "id": "ebaf52e6",
   "metadata": {},
   "outputs": [],
   "source": [
    "#cur.execute('DROP TABLE IF EXISTS unemployed;')"
   ]
  },
  {
   "cell_type": "code",
   "execution_count": null,
   "id": "cfbae529",
   "metadata": {},
   "outputs": [],
   "source": [
    "# Execute a command: this creates a new table\n",
    "#cur.execute('CREATE TABLE unemployed (industry varchar PRIMARY KEY,'\n",
    "                                 'unemployed14 integer NOT NULL,'\n",
    "                                 'unemployed15 integer NOT NULL,'\n",
    "                                 'unemployed16 integer NOT NULL,'\n",
    "                                 'unemployed17 integer NOT NULL,'\n",
    "                                 'unemployed18 integer NOT NULL,'\n",
    "                                 'unemployed19 integer NOT NULL,'\n",
    "                                 'unemployed20 integer NOT NULL,'\n",
    "                                 'unemployed21 integer NOT NULL);'\n",
    "                                 )"
   ]
  },
  {
   "cell_type": "code",
   "execution_count": null,
   "id": "dff4d929",
   "metadata": {},
   "outputs": [],
   "source": []
  }
 ],
 "metadata": {
  "kernelspec": {
   "display_name": "Python 3 (ipykernel)",
   "language": "python",
   "name": "python3"
  },
  "language_info": {
   "codemirror_mode": {
    "name": "ipython",
    "version": 3
   },
   "file_extension": ".py",
   "mimetype": "text/x-python",
   "name": "python",
   "nbconvert_exporter": "python",
   "pygments_lexer": "ipython3",
   "version": "3.7.15"
  }
 },
 "nbformat": 4,
 "nbformat_minor": 5
}
