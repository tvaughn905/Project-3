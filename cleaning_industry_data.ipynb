{
 "cells": [
  {
   "cell_type": "code",
   "execution_count": null,
   "id": "7b028efa",
   "metadata": {},
   "outputs": [],
   "source": [
    "# Dependencies\n",
    "import pandas as pd\n",
    "import numpy as np"
   ]
  },
  {
   "cell_type": "code",
   "execution_count": null,
   "id": "94a3e2da",
   "metadata": {
    "scrolled": true
   },
   "outputs": [],
   "source": [
    "# Create DataFrames\n",
    "industry_unemployment_2022_df = pd.read_excel('Resources/CPS2022_industry_unemployment.xlsx', skiprows = [0,1,2])\n",
    "industry_unemployment_2021_df = pd.read_excel('Resources/CPS2021_industry_unemployment.xlsx', skiprows = [0,1,2])\n",
    "industry_unemployment_2020_df = pd.read_excel('Resources/CPS2020_industry_unemployment.xlsx', skiprows = [0,1,2])\n",
    "industry_unemployment_2019_df = pd.read_excel('Resources/CPS2019_industry_unemployment.xlsx', skiprows = [0,1,2])\n",
    "industry_unemployment_2018_df = pd.read_excel('Resources/CPS2018_industry_unemployment.xlsx', skiprows = [0,1,2])\n",
    "industry_unemployment_2022_df.head(10)"
   ]
  },
  {
   "cell_type": "code",
   "execution_count": null,
   "id": "a6a7bfa1",
   "metadata": {},
   "outputs": [],
   "source": [
    "industry_unemployment_2022_df.columns"
   ]
  },
  {
   "cell_type": "code",
   "execution_count": null,
   "id": "fb76075b",
   "metadata": {},
   "outputs": [],
   "source": [
    "industry_unemployment_2022_df.rename(columns = {'Occupation and industry': \"occupation_industry\",\n",
    "                                                2022: \"total_unemployed_2022\",\n",
    "                                                'Unnamed: 2': \"less_than_five_wks_2022\",\n",
    "                                                \"Unnamed: 3\": \"five_to_forteen_wks_2022\",\n",
    "                                                \"Unnamed: 4\": \"total_fifteen_wks_and_over_2022\",\n",
    "                                                \"Unnamed: 5\": \"fifteen_to_twenty_six_wks_2022\",\n",
    "                                                \"Unnamed: 6\": \"twenty_seven_wks_and_over_2022\",\n",
    "                                                \"Unnamed: 7\": \"avg_duration_wks_2022\",\n",
    "                                                \"Unnamed: 8\": \"median_duration_wks_2022\"}, inplace=True)\n",
    "industry_unemployment_2021_df.rename(columns = {'Occupation and industry': \"occupation_industry\",\n",
    "                                                2021: \"total_unemployed_2021\",\n",
    "                                                'Unnamed: 2': \"less_than_five_wks_2021\",\n",
    "                                                \"Unnamed: 3\": \"five_to_forteen_wks_2021\",\n",
    "                                                \"Unnamed: 4\": \"total_fifteen_wks_and_over_2021\",\n",
    "                                                \"Unnamed: 5\": \"fifteen_to_twenty_six_wks_2021\",\n",
    "                                                \"Unnamed: 6\": \"twenty_seven_wks_and_over_2021\",\n",
    "                                                \"Unnamed: 7\": \"avg_duration_wks_2021\",\n",
    "                                                \"Unnamed: 8\": \"median_duration_wks_2021\"}, inplace=True)\n",
    "industry_unemployment_2020_df.rename(columns = {'Occupation and industry': \"occupation_industry\",\n",
    "                                                2020: \"total_unemployed_2020\",\n",
    "                                                'Unnamed: 2': \"less_than_five_wks_2020\",\n",
    "                                                \"Unnamed: 3\": \"five_to_forteen_wks_2020\",\n",
    "                                                \"Unnamed: 4\": \"total_fifteen_wks_and_over_2020\",\n",
    "                                                \"Unnamed: 5\": \"fifteen_to_twenty_six_wks_2020\",\n",
    "                                                \"Unnamed: 6\": \"twenty_seven_wks_and_over_2020\",\n",
    "                                                \"Unnamed: 7\": \"avg_duration_wks_2020\",\n",
    "                                                \"Unnamed: 8\": \"median_duration_wks_2020\"}, inplace=True)\n",
    "industry_unemployment_2019_df.rename(columns = {'Occupation and industry': \"occupation_industry\",\n",
    "                                                2019: \"total_unemployed_2019\",\n",
    "                                                'Unnamed: 2': \"less_than_five_wks_2019\",\n",
    "                                                \"Unnamed: 3\": \"five_to_forteen_wks_2019\",\n",
    "                                                \"Unnamed: 4\": \"total_fifteen_wks_and_over_2019\",\n",
    "                                                \"Unnamed: 5\": \"fifteen_to_twenty_six_wks_2019\",\n",
    "                                                \"Unnamed: 6\": \"twenty_seven_wks_and_over_2019\",\n",
    "                                                \"Unnamed: 7\": \"avg_duration_wks_2019\",\n",
    "                                                \"Unnamed: 8\": \"median_duration_wks_2019\"}, inplace=True)\n",
    "industry_unemployment_2018_df.rename(columns = {'Occupation and industry': \"occupation_industry\",\n",
    "                                                '2018': \"total_unemployed_2018\",\n",
    "                                                'Unnamed: 2': \"less_than_five_wks_2018\",\n",
    "                                                \"Unnamed: 3\": \"five_to_forteen_wks_2018\",\n",
    "                                                \"Unnamed: 4\": \"total_fifteen_wks_and_over_2018\",\n",
    "                                                \"Unnamed: 5\": \"fifteen_to_twenty_six_wks_2018\",\n",
    "                                                \"Unnamed: 6\": \"twenty_seven_wks_and_over_2018\",\n",
    "                                                \"Unnamed: 7\": \"avg_duration_wks_2018\",\n",
    "                                                \"Unnamed: 8\": \"median_duration_wks_2018\"}, inplace=True)\n",
    "industry_unemployment_2018_df.head()"
   ]
  },
  {
   "cell_type": "code",
   "execution_count": null,
   "id": "c29921f9",
   "metadata": {},
   "outputs": [],
   "source": [
    "industry_2022_df = industry_unemployment_2022_df.dropna()\n",
    "industry_2021_df = industry_unemployment_2021_df.dropna()\n",
    "industry_2020_df = industry_unemployment_2020_df.dropna()\n",
    "industry_2019_df = industry_unemployment_2019_df.dropna()\n",
    "industry_2018_df = industry_unemployment_2018_df.dropna()\n",
    "industry_2020_df.head()"
   ]
  },
  {
   "cell_type": "code",
   "execution_count": null,
   "id": "673368cb",
   "metadata": {
    "scrolled": true
   },
   "outputs": [],
   "source": [
    "industry_2022 = industry_2022_df.reset_index(drop=True)\n",
    "industry_2021 = industry_2021_df.reset_index(drop=True)\n",
    "industry_2020 = industry_2020_df.reset_index(drop=True)\n",
    "industry_2019 = industry_2019_df.reset_index(drop=True)\n",
    "industry_2018 = industry_2018_df.reset_index(drop=True)\n",
    "industry_2019"
   ]
  },
  {
   "cell_type": "code",
   "execution_count": null,
   "id": "f49d42a9",
   "metadata": {},
   "outputs": [],
   "source": [
    "rm_subcategories = [3, 4, 7, 8, 10, 11, 12, 14, 15, 20, 21]\n",
    "industry_2022.drop(industry_2022.index[rm_subcategories], inplace=True)\n",
    "industry_2022_clean = industry_2022.reset_index(drop=True)\n",
    "industry_2022_clean.head()"
   ]
  },
  {
   "cell_type": "code",
   "execution_count": null,
   "id": "cf56909d",
   "metadata": {},
   "outputs": [],
   "source": [
    "industry_2021.drop(industry_2021.index[rm_subcategories], inplace=True)\n",
    "industry_2021_clean = industry_2021.reset_index(drop=True)\n",
    "industry_2021_clean.head()"
   ]
  },
  {
   "cell_type": "code",
   "execution_count": null,
   "id": "1a8c12ee",
   "metadata": {},
   "outputs": [],
   "source": [
    "industry_2020.drop(industry_2020.index[rm_subcategories], inplace=True)\n",
    "industry_2020_clean = industry_2020.reset_index(drop=True)\n",
    "industry_2020_clean.head()"
   ]
  },
  {
   "cell_type": "code",
   "execution_count": null,
   "id": "fd816733",
   "metadata": {},
   "outputs": [],
   "source": [
    "industry_2019.drop(industry_2019.index[rm_subcategories], inplace=True)\n",
    "industry_2019_clean = industry_2019.reset_index(drop=True)\n",
    "industry_2019_clean.head()"
   ]
  },
  {
   "cell_type": "code",
   "execution_count": null,
   "id": "34f38628",
   "metadata": {},
   "outputs": [],
   "source": [
    "industry_2018.drop(industry_2018.index[rm_subcategories], inplace=True)\n",
    "industry_2018_clean = industry_2018.reset_index(drop=True)\n",
    "industry_2018_clean.head()"
   ]
  },
  {
   "cell_type": "code",
   "execution_count": null,
   "id": "764d7732",
   "metadata": {},
   "outputs": [],
   "source": [
    "industry_2022_clean.info()"
   ]
  },
  {
   "cell_type": "code",
   "execution_count": null,
   "id": "61b6d89a",
   "metadata": {},
   "outputs": [],
   "source": [
    "industry_2022_clean[['total_unemployed_2022','less_than_five_wks_2022', 'five_to_forteen_wks_2022', 'total_fifteen_wks_and_over_2022', 'fifteen_to_twenty_six_wks_2022', \n",
    "                     'twenty_seven_wks_and_over_2022']] = industry_2022_clean[['total_unemployed_2022','less_than_five_wks_2022', 'five_to_forteen_wks_2022', \n",
    "                                                                               'total_fifteen_wks_and_over_2022','fifteen_to_twenty_six_wks_2022', \n",
    "                                                                               'twenty_seven_wks_and_over_2022']].astype(str).astype(int)\n",
    "industry_2022_clean.info()"
   ]
  },
  {
   "cell_type": "code",
   "execution_count": null,
   "id": "ba86771f",
   "metadata": {},
   "outputs": [],
   "source": [
    "industry_2021_clean[['total_unemployed_2021','less_than_five_wks_2021', 'five_to_forteen_wks_2021', 'total_fifteen_wks_and_over_2021', 'fifteen_to_twenty_six_wks_2021', \n",
    "                     'twenty_seven_wks_and_over_2021']] = industry_2021_clean[['total_unemployed_2021','less_than_five_wks_2021', 'five_to_forteen_wks_2021', \n",
    "                                                                          'total_fifteen_wks_and_over_2021','fifteen_to_twenty_six_wks_2021', \n",
    "                                                                          'twenty_seven_wks_and_over_2021']].astype(str).astype(int)\n",
    "industry_2021_clean.info()"
   ]
  },
  {
   "cell_type": "code",
   "execution_count": null,
   "id": "3330cc5b",
   "metadata": {},
   "outputs": [],
   "source": [
    "industry_2020_clean[['total_unemployed_2020','less_than_five_wks_2020', 'five_to_forteen_wks_2020', 'total_fifteen_wks_and_over_2020', 'fifteen_to_twenty_six_wks_2020', \n",
    "                     'twenty_seven_wks_and_over_2020']] = industry_2020_clean[['total_unemployed_2020','less_than_five_wks_2020', 'five_to_forteen_wks_2020', \n",
    "                                                                          'total_fifteen_wks_and_over_2020','fifteen_to_twenty_six_wks_2020', \n",
    "                                                                          'twenty_seven_wks_and_over_2020']].astype(str).astype(int)\n",
    "industry_2020_clean.info()"
   ]
  },
  {
   "cell_type": "code",
   "execution_count": null,
   "id": "0db9f8b9",
   "metadata": {},
   "outputs": [],
   "source": [
    "industry_2019_clean[['total_unemployed_2019','less_than_five_wks_2019', 'five_to_forteen_wks_2019', 'total_fifteen_wks_and_over_2019', 'fifteen_to_twenty_six_wks_2019', \n",
    "                     'twenty_seven_wks_and_over_2019']] = industry_2019_clean[['total_unemployed_2019','less_than_five_wks_2019', 'five_to_forteen_wks_2019', \n",
    "                                                                          'total_fifteen_wks_and_over_2019','fifteen_to_twenty_six_wks_2019', \n",
    "                                                                          'twenty_seven_wks_and_over_2019']].astype(str).astype(int)\n",
    "industry_2019_clean.info()"
   ]
  },
  {
   "cell_type": "code",
   "execution_count": null,
   "id": "1be62769",
   "metadata": {},
   "outputs": [],
   "source": [
    "industry_2018_clean[['total_unemployed_2018','less_than_five_wks_2018', 'five_to_forteen_wks_2018', 'total_fifteen_wks_and_over_2018', 'fifteen_to_twenty_six_wks_2018', \n",
    "                     'twenty_seven_wks_and_over_2018']] = industry_2018_clean[['total_unemployed_2018','less_than_five_wks_2018', 'five_to_forteen_wks_2018', \n",
    "                                                                          'total_fifteen_wks_and_over_2018','fifteen_to_twenty_six_wks_2018', \n",
    "                                                                          'twenty_seven_wks_and_over_2018']].astype(str).astype(int)\n",
    "industry_2018_clean.info()"
   ]
  },
  {
   "cell_type": "code",
   "execution_count": null,
   "id": "e4c2af8c",
   "metadata": {},
   "outputs": [],
   "source": [
    "occupations_industries = industry_2022_clean['occupation_industry'].unique()\n",
    "print(occupations_industries)"
   ]
  },
  {
   "cell_type": "code",
   "execution_count": null,
   "id": "23e0eccb",
   "metadata": {},
   "outputs": [],
   "source": [
    "print(len(occupations_industries))"
   ]
  },
  {
   "cell_type": "code",
   "execution_count": null,
   "id": "90b9b8b6",
   "metadata": {},
   "outputs": [],
   "source": [
    "occupation_ids = np.arange(1, 21)\n",
    "print(occupation_ids)"
   ]
  },
  {
   "cell_type": "code",
   "execution_count": null,
   "id": "4bf94a3e",
   "metadata": {},
   "outputs": [],
   "source": [
    "occ_ids = [\"occ_\" + str(occ_id) for occ_id in occupation_ids]\n",
    "print(occ_ids)"
   ]
  },
  {
   "cell_type": "code",
   "execution_count": null,
   "id": "eada096c",
   "metadata": {},
   "outputs": [],
   "source": [
    "occupation_df = pd.DataFrame({\n",
    "    \"occupation_id\": occ_ids,\n",
    "    \"occupation_industry\": occupations_industries\n",
    "})\n",
    "occupation_df"
   ]
  },
  {
   "cell_type": "code",
   "execution_count": null,
   "id": "e0c3c9e2",
   "metadata": {},
   "outputs": [],
   "source": [
    "occupation_df.to_csv(\"Resources/occupations_industries.csv\", index=False)"
   ]
  },
  {
   "cell_type": "code",
   "execution_count": null,
   "id": "c5f6de9d",
   "metadata": {},
   "outputs": [],
   "source": [
    "merged_2022_df = industry_2022_clean.merge(occupation_df, on= 'occupation_industry', how= 'left')\n",
    "merged_2022_df.head()"
   ]
  },
  {
   "cell_type": "code",
   "execution_count": null,
   "id": "c56ec66a",
   "metadata": {},
   "outputs": [],
   "source": [
    "cleaned_2022_df = merged_2022_df.drop(['occupation_industry'], axis=1)\n",
    "cleaned_2022_df.head()"
   ]
  },
  {
   "cell_type": "code",
   "execution_count": null,
   "id": "bfec7c74",
   "metadata": {},
   "outputs": [],
   "source": [
    "cols = cleaned_2022_df.columns.tolist()\n",
    "cols"
   ]
  },
  {
   "cell_type": "code",
   "execution_count": null,
   "id": "e14bb096",
   "metadata": {},
   "outputs": [],
   "source": [
    "cols = cols[-1:] + cols[:-1]\n",
    "cols"
   ]
  },
  {
   "cell_type": "code",
   "execution_count": null,
   "id": "bd01b77a",
   "metadata": {},
   "outputs": [],
   "source": [
    "cleaned_2022_df = cleaned_2022_df[cols]\n",
    "cleaned_2022_df.head()"
   ]
  },
  {
   "cell_type": "code",
   "execution_count": null,
   "id": "56a44e0a",
   "metadata": {},
   "outputs": [],
   "source": [
    "merged_2021_df = industry_2021_clean.merge(occupation_df, on= 'occupation_industry', how= 'left')\n",
    "merged_2020_df = industry_2020_clean.merge(occupation_df, on= 'occupation_industry', how= 'left')\n",
    "merged_2019_df = industry_2019_clean.merge(occupation_df, on= 'occupation_industry', how= 'left')\n",
    "merged_2018_df = industry_2018_clean.merge(occupation_df, on= 'occupation_industry', how= 'left')\n",
    "merged_2021_df.head()"
   ]
  },
  {
   "cell_type": "code",
   "execution_count": null,
   "id": "30ce54c3",
   "metadata": {},
   "outputs": [],
   "source": [
    "cleaned_2021_df = merged_2021_df.drop(['occupation_industry'], axis=1)\n",
    "cols = cleaned_2021_df.columns.tolist()\n",
    "cols = cols[-1:] + cols[:-1]\n",
    "cleaned_2021_df = cleaned_2021_df[cols]\n",
    "\n",
    "cleaned_2021_df.head()"
   ]
  },
  {
   "cell_type": "code",
   "execution_count": null,
   "id": "8481fd19",
   "metadata": {},
   "outputs": [],
   "source": [
    "cleaned_2020_df = merged_2020_df.drop(['occupation_industry'], axis=1)\n",
    "cols = cleaned_2020_df.columns.tolist()\n",
    "cols = cols[-1:] + cols[:-1]\n",
    "cleaned_2020_df = cleaned_2020_df[cols]\n",
    "\n",
    "cleaned_2020_df.head()"
   ]
  },
  {
   "cell_type": "code",
   "execution_count": null,
   "id": "9f675fd6",
   "metadata": {},
   "outputs": [],
   "source": [
    "cleaned_2019_df = merged_2019_df.drop(['occupation_industry'], axis=1)\n",
    "cols = cleaned_2019_df.columns.tolist()\n",
    "cols = cols[-1:] + cols[:-1]\n",
    "cleaned_2019_df = cleaned_2019_df[cols]\n",
    "\n",
    "cleaned_2019_df.head()"
   ]
  },
  {
   "cell_type": "code",
   "execution_count": null,
   "id": "2f9d3054",
   "metadata": {},
   "outputs": [],
   "source": [
    "cleaned_2018_df = merged_2018_df.drop(['occupation_industry'], axis=1)\n",
    "cols = cleaned_2018_df.columns.tolist()\n",
    "cols = cols[-1:] + cols[:-1]\n",
    "cleaned_2018_df = cleaned_2018_df[cols]\n",
    "cleaned_2018_df.head()"
   ]
  },
  {
   "cell_type": "code",
   "execution_count": null,
   "id": "37b961f3",
   "metadata": {},
   "outputs": [],
   "source": [
    "cleaned_2022_df.to_csv(\"Resources/cleaned_2022_unemployment_industries.csv\", index=False)\n",
    "cleaned_2021_df.to_csv(\"Resources/cleaned_2021_unemployment_industries.csv\", index=False)\n",
    "cleaned_2020_df.to_csv(\"Resources/cleaned_2020_unemployment_industries.csv\", index=False)\n",
    "cleaned_2019_df.to_csv(\"Resources/cleaned_2019_unemployment_industries.csv\", index=False)\n",
    "cleaned_2018_df.to_csv(\"Resources/cleaned_2018_unemployment_industries.csv\", index=False)"
   ]
  },
  {
   "cell_type": "code",
   "execution_count": null,
   "id": "5046cd2e",
   "metadata": {},
   "outputs": [],
   "source": []
  }
 ],
 "metadata": {
  "kernelspec": {
   "display_name": "Python 3 (ipykernel)",
   "language": "python",
   "name": "python3"
  },
  "language_info": {
   "codemirror_mode": {
    "name": "ipython",
    "version": 3
   },
   "file_extension": ".py",
   "mimetype": "text/x-python",
   "name": "python",
   "nbconvert_exporter": "python",
   "pygments_lexer": "ipython3",
   "version": "3.9.13"
  }
 },
 "nbformat": 4,
 "nbformat_minor": 5
}
